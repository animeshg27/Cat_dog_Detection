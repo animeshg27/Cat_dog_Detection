{
 "cells": [
  {
   "cell_type": "code",
   "execution_count": null,
   "metadata": {},
   "outputs": [],
   "source": [
    "import cv2\n",
    "import tensorflow as tf\n",
    "\n",
    "Categories = ['Dog','Cat']\n",
    "\n",
    "def prepare(filepath):\n",
    "    Img_size = 50\n",
    "    img_array = cv2.imread(filepath,cv2.IMREAD_GRAYSCALE)\n",
    "    new_array = cv2.resize(img_array,(Img_size,Img_size))\n",
    "    return new_array.reshape(-1,Img_size,Img_size,1)\n",
    "\n",
    "model = tf.keras.models.load_model('64x3cnn.model')\n",
    "prediction = model.predict([prepare('newdog.jpg')])\n",
    "print(Categories[int(prediction[0][0])])"
   ]
  }
 ],
 "metadata": {
  "kernelspec": {
   "display_name": "Python 3.6 (tensorflow)",
   "language": "python",
   "name": "tensorflow"
  },
  "language_info": {
   "codemirror_mode": {
    "name": "ipython",
    "version": 3
   },
   "file_extension": ".py",
   "mimetype": "text/x-python",
   "name": "python",
   "nbconvert_exporter": "python",
   "pygments_lexer": "ipython3",
   "version": "3.6.9"
  }
 },
 "nbformat": 4,
 "nbformat_minor": 2
}

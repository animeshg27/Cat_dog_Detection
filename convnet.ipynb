{
 "cells": [
  {
   "cell_type": "markdown",
   "metadata": {},
   "source": []
  },
  {
   "cell_type": "code",
   "execution_count": 1,
   "metadata": {},
   "outputs": [
    {
     "name": "stdout",
     "output_type": "stream",
     "text": [
      "Train on 22451 samples, validate on 2495 samples\n",
      "Epoch 1/10\n",
      "22451/22451 [==============================] - 169s 8ms/step - loss: 0.2490 - acc: 0.5247 - val_loss: 0.2473 - val_acc: 0.5487\n",
      "Epoch 2/10\n",
      "22451/22451 [==============================] - 168s 7ms/step - loss: 0.2458 - acc: 0.5650 - val_loss: 0.2525 - val_acc: 0.4986\n",
      "Epoch 3/10\n",
      "22451/22451 [==============================] - 170s 8ms/step - loss: 0.2457 - acc: 0.5644 - val_loss: 0.2441 - val_acc: 0.5992\n",
      "Epoch 4/10\n",
      "22451/22451 [==============================] - 181s 8ms/step - loss: 0.2440 - acc: 0.5744 - val_loss: 0.2425 - val_acc: 0.5972\n",
      "Epoch 5/10\n",
      "22451/22451 [==============================] - 178s 8ms/step - loss: 0.2416 - acc: 0.5855 - val_loss: 0.2421 - val_acc: 0.5655\n",
      "Epoch 6/10\n",
      "22451/22451 [==============================] - 170s 8ms/step - loss: 0.2351 - acc: 0.6080 - val_loss: 0.2407 - val_acc: 0.5671\n",
      "Epoch 7/10\n",
      "22451/22451 [==============================] - 168s 7ms/step - loss: 0.2242 - acc: 0.6434 - val_loss: 0.2126 - val_acc: 0.6834\n",
      "Epoch 8/10\n",
      "22451/22451 [==============================] - 171s 8ms/step - loss: 0.2061 - acc: 0.6873 - val_loss: 0.2088 - val_acc: 0.6665\n",
      "Epoch 9/10\n",
      "22451/22451 [==============================] - 175s 8ms/step - loss: 0.1871 - acc: 0.7225 - val_loss: 0.1817 - val_acc: 0.7287\n",
      "Epoch 10/10\n",
      "22451/22451 [==============================] - 182s 8ms/step - loss: 0.1734 - acc: 0.7489 - val_loss: 0.1750 - val_acc: 0.7463\n"
     ]
    },
    {
     "data": {
      "text/plain": [
       "<tensorflow.python.keras.callbacks.History at 0x2b1b8f08c18>"
      ]
     },
     "execution_count": 1,
     "metadata": {},
     "output_type": "execute_result"
    }
   ],
   "source": [
    "import tensorflow as tf\n",
    "from tensorflow.keras.models import Sequential\n",
    "from tensorflow.keras.layers import Dense,Dropout,Activation,Flatten,Conv2D,MaxPooling2D\n",
    "from tensorflow.keras.callbacks import TensorBoard\n",
    "import pickle\n",
    "import time\n",
    "\n",
    "Name = \"Cat-vs-Dog-cnn64x2-{}\".format(int(time.time()))\n",
    "tensorboard = TensorBoard(log_dir='logs/{}'.format(Name))\n",
    "\n",
    "X = pickle.load(open(\"X.pickle\",\"rb\"))\n",
    "y = pickle.load(open(\"y.pickle\",\"rb\"))\n",
    "\n",
    "model = Sequential()\n",
    "model.add(Conv2D( 64 , (3,3), input_shape = X.shape[1:]) )\n",
    "model.add(Activation(\"relu\"))\n",
    "model.add(MaxPooling2D(pool_size=(2,2)))\n",
    "\n",
    "model.add(Conv2D(64,(3,3)))\n",
    "model.add(Activation(\"relu\"))\n",
    "model.add(MaxPooling2D(pool_size=(2,2)))\n",
    "\n",
    "model.add(Flatten())\n",
    "model.add(Dense(64))\n",
    "model.add(Activation(\"sigmoid\"))\n",
    "\n",
    "model.add(Dense(1))\n",
    "model.add(Activation(\"sigmoid\"))\n",
    "\n",
    "model.compile(optimizer=\"SGD\",loss=\"mean_squared_error\",metrics=[\"accuracy\"])\n",
    "\n",
    "model.fit(X,y,batch_size = 32,validation_split=0.1,epochs = 10,callbacks=[tensorboard])"
   ]
  },
  {
   "cell_type": "code",
   "execution_count": null,
   "metadata": {},
   "outputs": [],
   "source": []
  }
 ],
 "metadata": {
  "kernelspec": {
   "display_name": "Python 3.6 (tensorflow)",
   "language": "python",
   "name": "tensorflow"
  },
  "language_info": {
   "codemirror_mode": {
    "name": "ipython",
    "version": 3
   },
   "file_extension": ".py",
   "mimetype": "text/x-python",
   "name": "python",
   "nbconvert_exporter": "python",
   "pygments_lexer": "ipython3",
   "version": "3.6.9"
  }
 },
 "nbformat": 4,
 "nbformat_minor": 2
}
